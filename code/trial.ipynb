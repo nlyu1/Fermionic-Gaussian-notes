{
 "cells": [
  {
   "cell_type": "code",
   "execution_count": 1,
   "metadata": {},
   "outputs": [
    {
     "name": "stderr",
     "output_type": "stream",
     "text": [
      "/Users/nicholaslyu/anaconda3/lib/python3.10/site-packages/tqdm/auto.py:22: TqdmWarning: IProgress not found. Please update jupyter and ipywidgets. See https://ipywidgets.readthedocs.io/en/stable/user_install.html\n",
      "  from .autonotebook import tqdm as notebook_tqdm\n"
     ]
    }
   ],
   "source": [
    "from fourier_system import *"
   ]
  },
  {
   "cell_type": "code",
   "execution_count": 75,
   "metadata": {},
   "outputs": [],
   "source": [
    "n = 3 \n",
    "\n",
    "h = torch.randn((2*n, 2*n)) * 5\n",
    "h = (h - h.T) / 2\n",
    "d = torch.randn((2*n)) * 5\n",
    "# d = torch.zeros_like(d)\n",
    "d[1] = 1\n",
    "\n",
    "G2 = torch.randn((2*n, 2*n)) * 5\n",
    "G2 = (G2 - G2.T) / 2\n",
    "# G2 = torch.zeros_like(G2)\n",
    "\n",
    "G1 = torch.randn((2*n)) * 5\n",
    "# G1 = torch.zeros_like(G1)\n",
    "G1[0] = 1\n",
    "\n",
    "Cl = CliffordAlgebra(n, 'cpu')"
   ]
  },
  {
   "cell_type": "code",
   "execution_count": 76,
   "metadata": {},
   "outputs": [
    {
     "data": {
      "text/plain": [
       "{(1, 0, 0, 0, 0, 0): tensor(-0.3775-2.8662j, dtype=torch.complex128),\n",
       " (0, 1, 0, 0, 0, 0): tensor(0.8093-0.5170j, dtype=torch.complex128),\n",
       " (1, 1, 0, 0, 0, 0): tensor(-0.6485+0.0208j, dtype=torch.complex128),\n",
       " (0, 0, 1, 0, 0, 0): tensor(-6.0754+2.2692j, dtype=torch.complex128),\n",
       " (1, 0, 1, 0, 0, 0): tensor(0.4931-0.2530j, dtype=torch.complex128),\n",
       " (0, 1, 1, 0, 0, 0): tensor(1.0791+0.2076j, dtype=torch.complex128),\n",
       " (0, 0, 0, 1, 0, 0): tensor(4.2630+1.4728j, dtype=torch.complex128),\n",
       " (1, 0, 0, 1, 0, 0): tensor(-1.2310+0.2884j, dtype=torch.complex128),\n",
       " (0, 1, 0, 1, 0, 0): tensor(1.1544-0.3833j, dtype=torch.complex128),\n",
       " (0, 0, 1, 1, 0, 0): tensor(0.4835+1.7838j, dtype=torch.complex128),\n",
       " (0, 0, 0, 0, 1, 0): tensor(-0.7593-2.2623j, dtype=torch.complex128),\n",
       " (1, 0, 0, 0, 1, 0): tensor(0.3842+0.0882j, dtype=torch.complex128),\n",
       " (0, 1, 0, 0, 1, 0): tensor(2.5627-0.2310j, dtype=torch.complex128),\n",
       " (0, 0, 1, 0, 1, 0): tensor(-2.2957+1.9288j, dtype=torch.complex128),\n",
       " (0, 0, 0, 1, 1, 0): tensor(-3.2975-1.5764j, dtype=torch.complex128),\n",
       " (0, 0, 0, 0, 0, 1): tensor(1.3573+2.2610j, dtype=torch.complex128),\n",
       " (1, 0, 0, 0, 0, 1): tensor(1.0703-0.0290j, dtype=torch.complex128),\n",
       " (0, 1, 0, 0, 0, 1): tensor(2.8478+0.1369j, dtype=torch.complex128),\n",
       " (0, 0, 1, 0, 0, 1): tensor(0.4098-1.3761j, dtype=torch.complex128),\n",
       " (0, 0, 0, 1, 0, 1): tensor(-1.5252+1.3641j, dtype=torch.complex128),\n",
       " (0, 0, 0, 0, 1, 1): tensor(-0.5211+0.2589j, dtype=torch.complex128)}"
      ]
     },
     "execution_count": 76,
     "metadata": {},
     "output_type": "execute_result"
    }
   ],
   "source": [
    "# Encodes (h, d) into an operator \n",
    "def affine_operator_encode(h, d):\n",
    "    assert torch.allclose(h, -h.transpose(1, 0))\n",
    "    result = torch.zeros_like(Cl.id())\n",
    "    for i in range(2*n):\n",
    "        for j in range(2*n):\n",
    "            result += h[i][j] * Cl(i+1) @ Cl(j+1) / 2\n",
    "        result += d[i] * Cl(i+1)\n",
    "    return result \n",
    "\n",
    "# Special encoding into a unitary operator\n",
    "def affine_unitary_encode(h, d):\n",
    "    U = torch.matrix_exp(affine_operator_encode(h, d * 1j))\n",
    "    assert torch.allclose(U @ Adj(U), Cl.id())\n",
    "    return U \n",
    "\n",
    "# Decodes operator into raw (h, d)\n",
    "def affine_operator_decode(op):\n",
    "    h = torch.zeros((2*n, 2*n)).type_as(Cl.id())\n",
    "    d = torch.zeros(2*n).type_as(Cl.id())\n",
    "    Ivt = IndexMaskCvt(2*Cl.n)\n",
    "    D = Cl.fourier_coeffs(op)\n",
    "    for k, v in D.items():\n",
    "        k = Ivt.m2n(k)\n",
    "        if len(k) == 1:\n",
    "            d[k[0] - 1] = v \n",
    "        elif len(k) == 2:\n",
    "            h[k[0] - 1, k[1] - 1] = v \n",
    "            h[k[1] - 1, k[0] - 1] = -v \n",
    "        else:\n",
    "            raise RuntimeWarning(f'Decoding encounters non-affine term {k, v} of length {len(k)}')\n",
    "    return h, d \n",
    "\n",
    "def affine_matrix_encode(h, d, unitary_encoding=False):\n",
    "    E = torch.zeros((2*n+1, 2*n+1)).type_as(Cl.id())\n",
    "    E[1:, 1:] = h \n",
    "    if unitary_encoding:\n",
    "        E[0, 1:] = E[1:, 0] = -1j * d \n",
    "    else:\n",
    "        E[0, 1:] = -d \n",
    "        E[1:, 0] = d \n",
    "    return E \n",
    "\n",
    "U = affine_unitary_encode(h, d)\n",
    "op = affine_operator_encode(G2, G1)\n",
    "\n",
    "Cl.fourier_coeffs(U @ op @ Adj(U))"
   ]
  },
  {
   "cell_type": "code",
   "execution_count": 81,
   "metadata": {},
   "outputs": [
    {
     "data": {
      "text/plain": [
       "tensor(-0.5211+0.2589j, dtype=torch.complex128)"
      ]
     },
     "execution_count": 81,
     "metadata": {},
     "output_type": "execute_result"
    }
   ],
   "source": [
    "D, E = affine_matrix_encode(G2, G1), affine_matrix_encode(h, d, True)\n",
    "V = torch.matrix_exp(2 * E)\n",
    "\n",
    "O = V @ D @ V.T\n",
    "O[5, 6]"
   ]
  }
 ],
 "metadata": {
  "kernelspec": {
   "display_name": "Python 3",
   "language": "python",
   "name": "python3"
  },
  "language_info": {
   "codemirror_mode": {
    "name": "ipython",
    "version": 3
   },
   "file_extension": ".py",
   "mimetype": "text/x-python",
   "name": "python",
   "nbconvert_exporter": "python",
   "pygments_lexer": "ipython3",
   "version": "3.10.9"
  }
 },
 "nbformat": 4,
 "nbformat_minor": 2
}
